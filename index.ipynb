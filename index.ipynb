{
 "cells": [
  {
   "cell_type": "markdown",
   "metadata": {},
   "source": [
    "<h1 style=\"text-align:center;\">Introduction to SymPy Tutorial</h1>\n",
    "\n",
    "<img src=\"images/sympy-notext.svg\" alt=\"sympy logo\" style=\"width:200px\">\n",
    "\n",
    "[SymPy](http://sympy.org) is a pure Python library for symbolic mathematics. It aims to become a full-featured computer algebra system (CAS) while keeping the code as simple as possible in order to be comprehensible and easily extensible. SymPy is written entirely in Python and does not require any external libraries.\n",
    "\n",
    "This tutorial is intended to cover the basics as well as touch on more advanced topics. We will start with the basics of constructing and manipulating mathematical expressions in SymPy. We will also discuss the most common issues and differences from other computer algebra systems, and how to deal with them. In the remaining part of this tutorial we will show how to solve mathematical problems with SymPy.\n",
    "\n",
    "This knowledge should be enough for attendees to start using SymPy for solving mathematical problems and hacking SymPy's internals (though hacking core modules may require additional expertise).\n",
    "\n",
    "We expect attendees of this tutorial to have basic knowledge of Python and mathematics.\n",
    "\n",
    "## Instructor\n",
    "\n",
    "- Sartaj Singh, Indian Institute of Technology, BHU\n",
    "\n",
    "\n",
    "## Outline\n",
    "\n",
    "### [Introduction](intro-slides/intro-slides.html)\n",
    "\n",
    "Introduction of the topic, speakers, and software.\n",
    "\n",
    "### [01-Symbols-Derivatives-Functions](notebooks/01-Symbols-Derivatives-Functions.ipynb)\n",
    "\n",
    "Introduces Symbols in SymPy which are the basic building blocks of SymPy expression. This notebook also introduces functions in SymPy and how to take derivatives of the expressions.\n",
    "\n",
    "### [02-Solveset-Subs-Plot](notebooks/02-Solveset-Subs-Plot.ipynb)\n",
    "\n",
    "Solving equations using `solveset`. Using `subs` to substitute symbols with symbols/functions. Introduction to plotting using SymPy.\n",
    "\n",
    "### [03-subs-diff-solveset-practice](notebooks/03-subs-diff-solveset-practice.ipynb)\n",
    "\n",
    "Practice problems on subs, diff and solveset.\n",
    "\n",
    "### [04-Gotchas](notebooks/04-Gotchas.ipynb)\n",
    "\n",
    "Common pitfalls that should be taken care for. Knowing these helps to code more efficiently and correctly.\n",
    "\n",
    "### [05-Integrals](notebooks/05-Integrals.ipynb)\n",
    "\n",
    "Integrating expressions using `integrate` method.\n",
    "\n",
    "### [06-Matrices](notebooks/06-Matrices.ipynb)\n",
    "\n",
    "Representing Matrices in SymPy. Linear Algebra routines available in SymPy.\n",
    "\n",
    "### [07-Numeric-Evaluation](notebooks/07-Numeric-Evaluation.ipynb)\n",
    "\n",
    "Numerical Evaluation in SymPy. Goes through the slow and the fast way of doing this."
   ]
  },
  {
   "cell_type": "code",
   "execution_count": null,
   "metadata": {
    "collapsed": true
   },
   "outputs": [],
   "source": []
  }
 ],
 "metadata": {
  "kernelspec": {
   "display_name": "Python 3",
   "language": "python",
   "name": "python3"
  },
  "language_info": {
   "codemirror_mode": {
    "name": "ipython",
    "version": 3
   },
   "file_extension": ".py",
   "mimetype": "text/x-python",
   "name": "python",
   "nbconvert_exporter": "python",
   "pygments_lexer": "ipython3",
   "version": "3.6.2"
  }
 },
 "nbformat": 4,
 "nbformat_minor": 2
}
