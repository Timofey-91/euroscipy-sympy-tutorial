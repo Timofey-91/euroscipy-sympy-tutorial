{
 "cells": [
  {
   "cell_type": "code",
   "execution_count": 2,
   "metadata": {
    "collapsed": true
   },
   "outputs": [],
   "source": [
    "import numpy as np\n",
    "import matplotlib.pyplot as plt\n",
    "from sympy import *\n",
    "\n",
    "init_printing()\n",
    "x, y, z = symbols('x,y,z')\n",
    "n, m = symbols('n,m', integer=True)\n",
    "\n",
    "%matplotlib inline\n",
    "%load_ext exercise"
   ]
  },
  {
   "cell_type": "markdown",
   "metadata": {},
   "source": [
    "# Numeric Evaluation\n",
    "\n",
    "In this section we'll learn how to use our symbolic equations to drive numeric computations"
   ]
  },
  {
   "cell_type": "markdown",
   "metadata": {},
   "source": [
    "## `.subs` and `.evalf`\n",
    "\n",
    "The simplest (and slowest) ways to evaluate an expression numerically is with the `.subs` and `.evalf` methods "
   ]
  },
  {
   "cell_type": "code",
   "execution_count": null,
   "metadata": {
    "collapsed": true
   },
   "outputs": [],
   "source": [
    "sin(x)"
   ]
  },
  {
   "cell_type": "code",
   "execution_count": null,
   "metadata": {
    "collapsed": true
   },
   "outputs": [],
   "source": [
    "sin(x).subs({x: 0})"
   ]
  },
  {
   "cell_type": "code",
   "execution_count": null,
   "metadata": {
    "collapsed": true
   },
   "outputs": [],
   "source": [
    "acos(x).subs({x: -1})"
   ]
  },
  {
   "cell_type": "code",
   "execution_count": null,
   "metadata": {
    "collapsed": true
   },
   "outputs": [],
   "source": [
    "acos(x).subs({x: -1}).evalf()"
   ]
  },
  {
   "cell_type": "code",
   "execution_count": null,
   "metadata": {
    "collapsed": true
   },
   "outputs": [],
   "source": [
    "acos(x).subs({x: -1}).evalf(n=100)"
   ]
  },
  {
   "cell_type": "markdown",
   "metadata": {},
   "source": [
    "### Exercise\n",
    "\n",
    "In a previous section we computed the following symbolic integral\n",
    "\n",
    "$$ \\int_y^z x^n dx $$"
   ]
  },
  {
   "cell_type": "code",
   "execution_count": null,
   "metadata": {
    "collapsed": true
   },
   "outputs": [],
   "source": [
    "result = integrate(x**n, (x, y, z))\n",
    "result"
   ]
  },
  {
   "cell_type": "markdown",
   "metadata": {},
   "source": [
    "Use `.subs` and a dictionary with keys `n, y, z` to evaluate this result when \n",
    "\n",
    "    n == 2\n",
    "    y == 0\n",
    "    z == 3"
   ]
  },
  {
   "cell_type": "code",
   "execution_count": null,
   "metadata": {
    "collapsed": true
   },
   "outputs": [],
   "source": [
    "# Evaluate the resulting integral on the above values\n"
   ]
  },
  {
   "cell_type": "markdown",
   "metadata": {},
   "source": [
    "### Exercise\n",
    "\n",
    "Write a function that takes a symbolic expression (like `pi`), and determines the first place where `999999` appears.\n",
    "\n",
    "Tip: Use the string representation of the number. You can take the part after the `.` by using `split('.', 2)[1]`."
   ]
  },
  {
   "cell_type": "code",
   "execution_count": null,
   "metadata": {
    "collapsed": true
   },
   "outputs": [],
   "source": [
    "'1.2345'.split('.', 2)[1]"
   ]
  },
  {
   "cell_type": "markdown",
   "metadata": {},
   "source": [
    "And remember that Python starts counting at `0`, so if you use `str.find`, you'll need to add one."
   ]
  },
  {
   "cell_type": "code",
   "execution_count": null,
   "metadata": {
    "collapsed": true
   },
   "outputs": [],
   "source": [
    "str(1.2345).split('.', 2)[1].find('345')"
   ]
  },
  {
   "cell_type": "code",
   "execution_count": null,
   "metadata": {
    "collapsed": true
   },
   "outputs": [],
   "source": [
    "str(1.2345).split('.', 2)[1].find('345') + 1"
   ]
  },
  {
   "cell_type": "markdown",
   "metadata": {},
   "source": [
    "And remember that `str.find` returns `-1` if it cannot find the string."
   ]
  },
  {
   "cell_type": "code",
   "execution_count": null,
   "metadata": {
    "collapsed": true
   },
   "outputs": [],
   "source": [
    "'abcd'.find('def')"
   ]
  },
  {
   "cell_type": "code",
   "execution_count": null,
   "metadata": {
    "collapsed": true
   },
   "outputs": [],
   "source": [
    "# %exercise exercise_find.py\n",
    "def find_999999(expr, limit=100000):\n",
    "    \"\"\"\n",
    "    Find the first place in the decimal expr where 999999 appears.\n",
    "\n",
    "    Only checks up to limit digits.\n",
    "\n",
    "    Returns False when 999999 does not appear.\n",
    "\n",
    "    >>> find_999999(pi)\n",
    "    762\n",
    "    >>> find_999999(E)\n",
    "    False\n",
    "    >>> find_999999(E, 1000000) # This one will take a few seconds to compute\n",
    "    384340\n",
    "    \"\"\"\n",
    "    # index where 999999 appears\n",
    "    found = ???\n",
    "    if found == ???:\n",
    "        return False\n",
    "    return found"
   ]
  },
  {
   "cell_type": "code",
   "execution_count": null,
   "metadata": {
    "collapsed": true
   },
   "outputs": [],
   "source": [
    "find_999999(pi)"
   ]
  },
  {
   "cell_type": "code",
   "execution_count": null,
   "metadata": {
    "collapsed": true
   },
   "outputs": [],
   "source": [
    "find_999999(E)"
   ]
  },
  {
   "cell_type": "markdown",
   "metadata": {},
   "source": [
    "## `lambdify`\n",
    "\n",
    "The `.subs` and `.evalf` methods are great for when you want to evaluate an expression at a single point.  When you want to evaluate your expression on lots of points they quickly become slow. \n",
    "\n",
    "To resolve this problem SymPy can rewrite its expressions as normal Python functions using the `math` library, vectorized computations using the NumPy library, C or Fortran Code using code printers, or even more sophisticated systems."
   ]
  },
  {
   "cell_type": "code",
   "execution_count": null,
   "metadata": {
    "collapsed": true
   },
   "outputs": [],
   "source": [
    "# function = lambdify(input, output)\n",
    "f = lambdify(x, x**2)\n",
    "f(3)"
   ]
  },
  {
   "cell_type": "code",
   "execution_count": null,
   "metadata": {
    "collapsed": true
   },
   "outputs": [],
   "source": [
    "f = lambdify(x, x**2, 'numpy')  # Use numpy backend\n",
    "data = np.array([1, 2, 3, 4, 5])\n",
    "f(data)"
   ]
  },
  {
   "cell_type": "markdown",
   "metadata": {},
   "source": [
    "### Exercise\n",
    "\n",
    "We will look at an arbitrary expression $f(x, y)$:\n",
    "\n",
    "$$\n",
    "f(x, y) = 3 x^{2} + \\log{\\left (x^{2} + 1 \\right )}\n",
    "$$"
   ]
  },
  {
   "cell_type": "code",
   "execution_count": null,
   "metadata": {
    "collapsed": true
   },
   "outputs": [],
   "source": [
    "expr = 3*x**2 + log(x**2 + 1)\n",
    "expr"
   ]
  },
  {
   "cell_type": "markdown",
   "metadata": {},
   "source": [
    "Create a function, `f`, that evaluate this expression using the `'numpy'` backend"
   ]
  },
  {
   "cell_type": "code",
   "execution_count": null,
   "metadata": {
    "collapsed": true
   },
   "outputs": [],
   "source": [
    "# Create Numpy function mapping x to expr with the numpy backend\n",
    "f = lambdify(x, expr, modules='numpy')"
   ]
  },
  {
   "cell_type": "markdown",
   "metadata": {},
   "source": [
    "We can plot your function from $x \\in [0, 5]$ with the following numpy/matplotlib code"
   ]
  },
  {
   "cell_type": "code",
   "execution_count": null,
   "metadata": {
    "collapsed": true
   },
   "outputs": [],
   "source": [
    "nx = np.linspace(0, 5, 1000)\n",
    "plt.plot(nx, f(nx));"
   ]
  },
  {
   "cell_type": "markdown",
   "metadata": {},
   "source": [
    "### Exercise\n",
    "\n",
    "Create a numpy function that computes the derivative of our expression.  Plot the result."
   ]
  },
  {
   "cell_type": "code",
   "execution_count": null,
   "metadata": {
    "collapsed": true
   },
   "outputs": [],
   "source": [
    "# %exercise exercise_plotting.py\n",
    "# differentiate the expression\n",
    "expr_d = ???\n",
    "f2 = lambdify(???)\n",
    "plt.plot(???);"
   ]
  }
 ],
 "metadata": {
  "kernelspec": {
   "display_name": "Python 2",
   "language": "python",
   "name": "python2"
  },
  "language_info": {
   "codemirror_mode": {
    "name": "ipython",
    "version": 2
   },
   "file_extension": ".py",
   "mimetype": "text/x-python",
   "name": "python",
   "nbconvert_exporter": "python",
   "pygments_lexer": "ipython2",
   "version": "2.7.13"
  }
 },
 "nbformat": 4,
 "nbformat_minor": 1
}
