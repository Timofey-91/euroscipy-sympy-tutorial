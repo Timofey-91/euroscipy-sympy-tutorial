{
 "cells": [
  {
   "cell_type": "code",
   "execution_count": null,
   "metadata": {},
   "outputs": [],
   "source": [
    "import numpy as np\n",
    "import matplotlib.pyplot as plt\n",
    "from sympy import *\n",
    "\n",
    "init_printing()\n",
    "x, y, z = symbols('x,y,z')\n",
    "n, m = symbols('n,m', integer=True)\n",
    "\n",
    "%matplotlib inline\n",
    "%load_ext exercise"
   ]
  },
  {
   "cell_type": "markdown",
   "metadata": {},
   "source": [
    "# Numeric Evaluation\n",
    "\n",
    "In this section we'll learn how to use our symbolic equations to drive numeric computations"
   ]
  },
  {
   "cell_type": "markdown",
   "metadata": {},
   "source": [
    "## `.subs` and `.evalf`\n",
    "\n",
    "The simplest (and slowest) ways to evaluate an expression numerically is with the `.subs` and `.evalf` methods "
   ]
  },
  {
   "cell_type": "code",
   "execution_count": null,
   "metadata": {},
   "outputs": [],
   "source": [
    "sin(x)"
   ]
  },
  {
   "cell_type": "code",
   "execution_count": null,
   "metadata": {},
   "outputs": [],
   "source": [
    "sin(x).subs({x: 0})"
   ]
  },
  {
   "cell_type": "code",
   "execution_count": null,
   "metadata": {},
   "outputs": [],
   "source": [
    "acos(x).subs({x: -1})"
   ]
  },
  {
   "cell_type": "code",
   "execution_count": null,
   "metadata": {},
   "outputs": [],
   "source": [
    "acos(x).subs({x: -1}).evalf()"
   ]
  },
  {
   "cell_type": "code",
   "execution_count": null,
   "metadata": {},
   "outputs": [],
   "source": [
    "acos(x).subs({x: -1}).evalf(n=100)"
   ]
  },
  {
   "cell_type": "markdown",
   "metadata": {},
   "source": [
    "### Exercise\n",
    "\n",
    "In a previous section we computed the following symbolic integral\n",
    "\n",
    "$$ \\int_y^z x^n dx $$"
   ]
  },
  {
   "cell_type": "code",
   "execution_count": null,
   "metadata": {},
   "outputs": [],
   "source": [
    "result = integrate(x**n, (x, y, z))\n",
    "result"
   ]
  },
  {
   "cell_type": "markdown",
   "metadata": {},
   "source": [
    "Use `.subs` and a dictionary with keys `n, y, z` to evaluate this result when \n",
    "\n",
    "    n == 2\n",
    "    y == 0\n",
    "    z == 3"
   ]
  },
  {
   "cell_type": "code",
   "execution_count": null,
   "metadata": {},
   "outputs": [],
   "source": [
    "# Evaluate the resulting integral on the above values\n"
   ]
  },
  {
   "cell_type": "markdown",
   "metadata": {},
   "source": [
    "### Exercise\n",
    "\n",
    "This integral takes on a special form when $n = -1$.  Use subs to find the expression when \n",
    "\n",
    "    n == -1\n",
    "    y == 5\n",
    "    z == 100\n",
    "    \n",
    "Then use `.evalf` to evaluate this subs-ed expression as a float."
   ]
  },
  {
   "cell_type": "code",
   "execution_count": null,
   "metadata": {},
   "outputs": [],
   "source": [
    "# Evaluate the resulting integral for the values {n: -1, y: 5, z: 100}\n",
    "# Then use evalf to get a numeric result\n"
   ]
  },
  {
   "cell_type": "markdown",
   "metadata": {},
   "source": [
    "## `lambdify`\n",
    "\n",
    "The `.subs` and `.evalf` methods are great for when you want to evaluate an expression at a single point.  When you want to evaluate your expression on lots of points they quickly become slow. \n",
    "\n",
    "To resolve this problem SymPy can rewrite its expressions as normal Python functions using the `math` library, vectorized computations using the NumPy library, C or Fortran Code using code printers, or even more sophisticated systems."
   ]
  },
  {
   "cell_type": "code",
   "execution_count": null,
   "metadata": {},
   "outputs": [],
   "source": [
    "# function = lambdify(input, output)\n",
    "f = lambdify(x, x**2)\n",
    "f(3)"
   ]
  },
  {
   "cell_type": "code",
   "execution_count": null,
   "metadata": {},
   "outputs": [],
   "source": [
    "f = lambdify(x, x**2, 'numpy')  # Use numpy backend\n",
    "data = np.array([1, 2, 3, 4, 5])\n",
    "f(data)"
   ]
  },
  {
   "cell_type": "markdown",
   "metadata": {},
   "source": [
    "### Exercise\n",
    "\n",
    "We will look at an arbitrary expression $f(x, y)$:\n",
    "\n",
    "$$\n",
    "f(x, y) = 3 x^{2} + \\log{\\left (x^{2} + 1 \\right )}\n",
    "$$"
   ]
  },
  {
   "cell_type": "code",
   "execution_count": null,
   "metadata": {},
   "outputs": [],
   "source": [
    "expr = 3*x**2 + log(x + 1)\n",
    "expr"
   ]
  },
  {
   "cell_type": "markdown",
   "metadata": {},
   "source": [
    "Create a function, `f`, that evaluate this expression using the `'numpy'` backend"
   ]
  },
  {
   "cell_type": "code",
   "execution_count": null,
   "metadata": {
    "collapsed": true
   },
   "outputs": [],
   "source": [
    "# Create Numpy function mapping x to expr with the numpy backend\n",
    "f = lambdify(x, expr, modules='numpy')"
   ]
  },
  {
   "cell_type": "markdown",
   "metadata": {},
   "source": [
    "We can plot your function from $x \\in [0, 5]$ with the following numpy/matplotlib code"
   ]
  },
  {
   "cell_type": "code",
   "execution_count": null,
   "metadata": {},
   "outputs": [],
   "source": [
    "nx = np.linspace(0, 5, 1000)\n",
    "plt.plot(nx, f(nx));"
   ]
  },
  {
   "cell_type": "markdown",
   "metadata": {},
   "source": [
    "### Exercise\n",
    "\n",
    "Create a numpy function that computes the derivative of our expression.  Plot the result."
   ]
  },
  {
   "cell_type": "code",
   "execution_count": null,
   "metadata": {},
   "outputs": [],
   "source": [
    "# %exercise exercise_plotting.py\n",
    "# differentiate the expression\n",
    "expr_d = ???\n",
    "f2 = lambdify(???)\n",
    "plt.plot(???);"
   ]
  }
 ],
 "metadata": {
  "kernelspec": {
   "display_name": "Python 2",
   "language": "python",
   "name": "python2"
  },
  "language_info": {
   "codemirror_mode": {
    "name": "ipython",
    "version": 2
   },
   "file_extension": ".py",
   "mimetype": "text/x-python",
   "name": "python",
   "nbconvert_exporter": "python",
   "pygments_lexer": "ipython2",
   "version": "2.7.13"
  }
 },
 "nbformat": 4,
 "nbformat_minor": 1
}
